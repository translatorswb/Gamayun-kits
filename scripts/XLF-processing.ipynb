{
 "cells": [
  {
   "cell_type": "code",
   "execution_count": 1,
   "metadata": {},
   "outputs": [],
   "source": [
    "#from xml.dom import minidom\n",
    "from bs4 import BeautifulSoup\n",
    "import re\n",
    "import os"
   ]
  },
  {
   "cell_type": "code",
   "execution_count": 42,
   "metadata": {},
   "outputs": [],
   "source": [
    "xlf_path = \"/Users/alp/Documents/TWB/data/Gamayun-kits/parallel/kit_mini_5k_sentences.docx.xlf-en-ti_et-R-C (1).xlf\"\n",
    "output_path = \"/Users/alp/Documents/TWB/data/Gamayun-kits/parallel/tig-eng/en-kit5k-v1/gamayun_kit5k-v1_eng-tig_TIG.txt\"\n",
    "with open(xlf_path) as f:\n",
    "    content = f.read()\n",
    "\n",
    "soup = BeautifulSoup(content)\n",
    "segments = soup.findAll(\"trans-unit\")"
   ]
  },
  {
   "cell_type": "code",
   "execution_count": 46,
   "metadata": {},
   "outputs": [
    {
     "name": "stdout",
     "output_type": "stream",
     "text": [
      "ጆይ፡ ነቲ ኣሊስ ዘካየደትሉ ኣገባብ ፈትያቶ \n",
      "እያ።\n",
      "ቻርሊ እንታይ ከም ዝገበርካ ይፈልጥ እዩ።\n",
      "\n",
      "\"ኣሌክስ ንምታይ እዩ ዝመጽእ ዘሎ?\" \"ብዛዕባ ብቫይረስ ኮምፕዩተር ወይ ካልእ ዝህሉ መልከፍቲ ድማ ይዘራረብ ነይሩ።\" \"ዋእ፡ ኣሌክስ ከምኡ ጌሩ?\" \"እወ፡ ኣብ ውሽጢ ዓራት ኮይኑ ከሙቓ እዩ።\"\n",
      "\"ዝተረደኣኒ ኮይኑ ኣይስመዓንን.\" \"ኣነ'ውን ኣይተረድኣንን።\"\n",
      "ስነ ፍልጠታዊ ልቢ ወለድ\n",
      "ምንባብ ይፈቱ እዩ።\n"
     ]
    }
   ],
   "source": [
    "sentences = []\n",
    "for segment in segments:\n",
    "    target = segment.find(\"target\")\n",
    "    full_sentence = \"\".join([m.text for m in target.find_all(\"mrk\")])\n",
    "    if \"\\n\" in full_sentence:\n",
    "        print(full_sentence)\n",
    "    full_sentence = full_sentence.replace('\\n','')\n",
    "    sentences.append(full_sentence)"
   ]
  },
  {
   "cell_type": "code",
   "execution_count": 44,
   "metadata": {},
   "outputs": [],
   "source": [
    "with open(output_path,'w') as f:\n",
    "    for s in sentences:\n",
    "        f.write(s+\"\\n\")"
   ]
  },
  {
   "cell_type": "code",
   "execution_count": 45,
   "metadata": {},
   "outputs": [
    {
     "data": {
      "text/plain": [
       "5000"
      ]
     },
     "execution_count": 45,
     "metadata": {},
     "output_type": "execute_result"
    }
   ],
   "source": [
    "len(sentences)"
   ]
  },
  {
   "cell_type": "code",
   "execution_count": null,
   "metadata": {},
   "outputs": [],
   "source": []
  }
 ],
 "metadata": {
  "kernelspec": {
   "display_name": "Python 3",
   "language": "python",
   "name": "python3"
  },
  "language_info": {
   "codemirror_mode": {
    "name": "ipython",
    "version": 3
   },
   "file_extension": ".py",
   "mimetype": "text/x-python",
   "name": "python",
   "nbconvert_exporter": "python",
   "pygments_lexer": "ipython3",
   "version": "3.7.9"
  }
 },
 "nbformat": 4,
 "nbformat_minor": 2
}
